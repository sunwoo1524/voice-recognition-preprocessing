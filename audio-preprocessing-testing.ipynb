{
 "cells": [
  {
   "cell_type": "markdown",
   "id": "52ddfdbb-d585-4d76-b420-e00046e29fbb",
   "metadata": {},
   "source": [
    "## Convert to mel-spectrogram"
   ]
  },
  {
   "cell_type": "code",
   "execution_count": null,
   "id": "1317fac7-0b72-4881-8d99-2f252a30119f",
   "metadata": {},
   "outputs": [],
   "source": [
    "import librosa\n",
    "import librosa.display\n",
    "import numpy as np"
   ]
  },
  {
   "cell_type": "code",
   "execution_count": null,
   "id": "af451cc3-484b-4108-92bc-4091f6a14163",
   "metadata": {},
   "outputs": [],
   "source": [
    "y, sr = librosa.load(\"./input.wav\") # audio data and samplerate\n",
    "\n",
    "print(len(y), sr, len(y)/sr)"
   ]
  },
  {
   "cell_type": "code",
   "execution_count": null,
   "id": "b5a42825-e6f4-4ddc-9593-b3d2cac7e2f7",
   "metadata": {},
   "outputs": [],
   "source": [
    "# optimum setting values for voice recognition (by Claude)\n",
    "mel_spectrogram = librosa.feature.melspectrogram(\n",
    "    y=y,\n",
    "    sr=sr,\n",
    "    n_fft=2048,\n",
    "    hop_length=512,\n",
    "    n_mels=128,\n",
    "    fmax=8000\n",
    ")\n",
    "\n",
    "mel_spectrogram_db = librosa.power_to_db(mel_spectrogram, ref=np.max)\n",
    "\n",
    "print(mel_spectrogram_db.shape)"
   ]
  },
  {
   "cell_type": "markdown",
   "id": "668d3026-c0dd-4801-a6d0-dd963bc55465",
   "metadata": {},
   "source": [
    "## Visualize (by Claude)"
   ]
  },
  {
   "cell_type": "code",
   "execution_count": null,
   "id": "4858d231-3828-4592-8b58-6177ae80a18f",
   "metadata": {},
   "outputs": [],
   "source": [
    "import matplotlib.pyplot as plt\n",
    "\n",
    "plt.subplot(2, 1, 1)\n",
    "librosa.display.waveshow(y, sr=sr)\n",
    "plt.title('Audio Waveform')\n",
    "plt.xlabel('Time (sec)')\n",
    "plt.ylabel('Amplitude')\n",
    "\n",
    "plt.subplot(2, 1, 2)\n",
    "img = librosa.display.specshow(\n",
    "    mel_spectrogram_db,\n",
    "    sr=sr,\n",
    "    hop_length=512,\n",
    "    x_axis='time',\n",
    "    y_axis='mel',\n",
    "    fmax=8000,\n",
    "    cmap='viridis'\n",
    ")\n",
    "plt.colorbar(img, format='%+2.0f dB')\n",
    "plt.title('Mel Spectrogram')\n",
    "plt.xlabel('Time (sec)')\n",
    "plt.ylabel('frequency (Hz)')\n",
    "\n",
    "plt.tight_layout()\n",
    "# plt.savefig('mel_spectrogram.png', dpi=300, bbox_inches='tight')\n",
    "plt.show()"
   ]
  }
 ],
 "metadata": {
  "kernelspec": {
   "display_name": "Python 3 (ipykernel)",
   "language": "python",
   "name": "python3"
  },
  "language_info": {
   "codemirror_mode": {
    "name": "ipython",
    "version": 3
   },
   "file_extension": ".py",
   "mimetype": "text/x-python",
   "name": "python",
   "nbconvert_exporter": "python",
   "pygments_lexer": "ipython3",
   "version": "3.13.7"
  }
 },
 "nbformat": 4,
 "nbformat_minor": 5
}
